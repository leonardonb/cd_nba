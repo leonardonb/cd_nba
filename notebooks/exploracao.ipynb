import pandas as pd
data = pd.read_csv("../data/raw/nba_raw_data_2024.csv")
print(data.describe())
