import seaborn as sns
sns.boxplot(data=data, x="PTS")
